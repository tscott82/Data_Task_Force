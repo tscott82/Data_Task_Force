{
 "cells": [
  {
   "cell_type": "markdown",
   "id": "1f06b671-4fb7-4a84-bfbb-804ea313c57e",
   "metadata": {},
   "source": [
    "# Data Task Force\n"
   ]
  },
  {
   "cell_type": "code",
   "execution_count": null,
   "id": "82c929b3-71f2-4643-92b4-c28bc3fc5f59",
   "metadata": {},
   "outputs": [],
   "source": []
  }
 ],
 "metadata": {
  "kernelspec": {
   "display_name": "Python 3 (ipykernel)",
   "language": "python",
   "name": "python3"
  },
  "language_info": {
   "codemirror_mode": {
    "name": "ipython",
    "version": 3
   },
   "file_extension": ".py",
   "mimetype": "text/x-python",
   "name": "python",
   "nbconvert_exporter": "python",
   "pygments_lexer": "ipython3",
   "version": "3.10.4"
  }
 },
 "nbformat": 4,
 "nbformat_minor": 5
}
